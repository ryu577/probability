{
 "cells": [
  {
   "cell_type": "code",
   "execution_count": 90,
   "id": "152f7ce8",
   "metadata": {},
   "outputs": [],
   "source": [
    "import numpy as np"
   ]
  },
  {
   "cell_type": "code",
   "execution_count": 91,
   "id": "9aa4a4e0",
   "metadata": {},
   "outputs": [],
   "source": [
    "beta = np.array([[1.0,1.0,1.0,1.0],[1.0,1.0,1.0,1.0]])\n",
    "x = np.array([1.0,1.0,1.0,1.0])\n",
    "alpha = np.array([1.0,1.0])"
   ]
  },
  {
   "cell_type": "code",
   "execution_count": 92,
   "id": "4a49be7e",
   "metadata": {},
   "outputs": [],
   "source": [
    "def compute_gradient_matrix_cookbook(x,alpha,beta):\n",
    "    return 2*(np.dot(beta,np.outer(x,x.T)).T - (np.outer(x,alpha)))"
   ]
  },
  {
   "cell_type": "code",
   "execution_count": 93,
   "id": "457dcf21",
   "metadata": {},
   "outputs": [],
   "source": [
    "def compute_difference(beta,x):\n",
    "    alpha_hat = (beta).dot(x)\n",
    "    difference = alpha_hat-alpha\n",
    "    \n",
    "    return difference"
   ]
  },
  {
   "cell_type": "code",
   "execution_count": 94,
   "id": "e56152e3",
   "metadata": {},
   "outputs": [],
   "source": [
    "def sse(difference):\n",
    "    return (difference.T).dot(difference) "
   ]
  },
  {
   "cell_type": "code",
   "execution_count": 95,
   "id": "3b3c3b1b",
   "metadata": {},
   "outputs": [],
   "source": [
    "def compute_gradient_manual(beta,x,index_values,delta=0.00001):\n",
    "    row,col = index_values\n",
    "    difference1 = compute_difference(beta,x)\n",
    "    \n",
    "    beta_copy = beta.copy()\n",
    "    beta_copy[row,col]+=0.00001\n",
    "    \n",
    "    difference2 = compute_difference(beta_copy,x)\n",
    "    \n",
    "    return (sse(difference1)-sse(difference2))/0.001"
   ]
  },
  {
   "cell_type": "code",
   "execution_count": 77,
   "id": "aee741d1",
   "metadata": {},
   "outputs": [],
   "source": [
    "alpha_hat = (beta).dot(x)\n",
    "difference = alpha_hat-alpha"
   ]
  },
  {
   "cell_type": "code",
   "execution_count": 79,
   "id": "8825f4fb",
   "metadata": {},
   "outputs": [
    {
     "data": {
      "text/plain": [
       "array([[6., 6.],\n",
       "       [6., 6.],\n",
       "       [6., 6.],\n",
       "       [6., 6.]])"
      ]
     },
     "execution_count": 79,
     "metadata": {},
     "output_type": "execute_result"
    }
   ],
   "source": [
    "#cookbook gradient\n",
    "gradient(x,alpha,beta)"
   ]
  },
  {
   "cell_type": "code",
   "execution_count": 96,
   "id": "d6a3cd1a",
   "metadata": {},
   "outputs": [
    {
     "data": {
      "text/plain": [
       "array([[-0.0600001, -0.0600001],\n",
       "       [-0.0600001, -0.0600001],\n",
       "       [-0.0600001, -0.0600001],\n",
       "       [-0.0600001, -0.0600001]])"
      ]
     },
     "execution_count": 96,
     "metadata": {},
     "output_type": "execute_result"
    }
   ],
   "source": [
    "#manual gradient verification\n",
    "\n",
    "gradient_matrix_manual = np.zeros(beta.shape)\n",
    "\n",
    "for val in range(len(beta)):\n",
    "    for valtwo in range(len(beta[0])):\n",
    "        partial_gradient = compute_gradient_manual(beta,x,(val,valtwo))\n",
    "        gradient_matrix_manual[val,valtwo]=partial_gradient\n",
    "        \n",
    "gradient_matrix_manual.T"
   ]
  },
  {
   "cell_type": "code",
   "execution_count": 87,
   "id": "97be5469",
   "metadata": {},
   "outputs": [],
   "source": [
    "for val in range(len(beta)):\n",
    "    for valtwo in range(len(beta[0])):\n",
    "        partial_gradient = compute_gradient_manual(beta,x,(val,valtwo))\n",
    "        gradient_matrix_manual[val,valtwo]=partial_gradient"
   ]
  },
  {
   "cell_type": "code",
   "execution_count": 89,
   "id": "0346a63e",
   "metadata": {},
   "outputs": [
    {
     "data": {
      "text/plain": [
       "array([[-6.001, -6.001],\n",
       "       [-6.001, -6.001],\n",
       "       [-6.001, -6.001],\n",
       "       [-6.001, -6.001]])"
      ]
     },
     "execution_count": 89,
     "metadata": {},
     "output_type": "execute_result"
    }
   ],
   "source": [
    "gradient_matrix_manual.T"
   ]
  },
  {
   "cell_type": "code",
   "execution_count": null,
   "id": "4855fe58",
   "metadata": {},
   "outputs": [],
   "source": []
  }
 ],
 "metadata": {
  "kernelspec": {
   "display_name": "Python 3 (ipykernel)",
   "language": "python",
   "name": "python3"
  },
  "language_info": {
   "codemirror_mode": {
    "name": "ipython",
    "version": 3
   },
   "file_extension": ".py",
   "mimetype": "text/x-python",
   "name": "python",
   "nbconvert_exporter": "python",
   "pygments_lexer": "ipython3",
   "version": "3.9.7"
  }
 },
 "nbformat": 4,
 "nbformat_minor": 5
}
